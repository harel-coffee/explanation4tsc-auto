{
  "nbformat": 4,
  "nbformat_minor": 0,
  "metadata": {
    "kernelspec": {
      "display_name": "Python 3",
      "language": "python",
      "name": "python3"
    },
    "language_info": {
      "codemirror_mode": {
        "name": "ipython",
        "version": 3
      },
      "file_extension": ".py",
      "mimetype": "text/x-python",
      "name": "python",
      "nbconvert_exporter": "python",
      "pygments_lexer": "ipython3",
      "version": "3.7.4"
    },
    "colab": {
      "name": "(G-Colab) 1.2 Get Explanation weights - LIME.ipynb",
      "provenance": [],
      "collapsed_sections": [
        "cEbe61KLHNQq",
        "dm6Npg_pVx5A",
        "AsjGZTOIG_rR",
        "0dGqKGiKG_rT",
        "arQwLXnpiJvE",
        "3jV0FCgZiL7D"
      ],
      "toc_visible": true
    }
  },
  "cells": [
    {
      "cell_type": "markdown",
      "metadata": {
        "id": "cEbe61KLHNQq"
      },
      "source": [
        "# Prep\r\n"
      ]
    },
    {
      "cell_type": "code",
      "metadata": {
        "id": "DSV8UQYZHLK1",
        "colab": {
          "base_uri": "https://localhost:8080/"
        },
        "outputId": "ee17b8dd-fc05-46f5-8cd7-a03cd39ad9ec"
      },
      "source": [
        "from google.colab import drive\r\n",
        "drive.mount('/content/drive')"
      ],
      "execution_count": 37,
      "outputs": [
        {
          "output_type": "stream",
          "text": [
            "Drive already mounted at /content/drive; to attempt to forcibly remount, call drive.mount(\"/content/drive\", force_remount=True).\n"
          ],
          "name": "stdout"
        }
      ]
    },
    {
      "cell_type": "code",
      "metadata": {
        "id": "DqTvmyeoHUQC",
        "colab": {
          "base_uri": "https://localhost:8080/"
        },
        "outputId": "7bbb1846-b62b-4181-eca1-4e282f6ce2c8"
      },
      "source": [
        "%load_ext autoreload\r\n",
        "%autoreload 2"
      ],
      "execution_count": 38,
      "outputs": [
        {
          "output_type": "stream",
          "text": [
            "The autoreload extension is already loaded. To reload it, use:\n",
            "  %reload_ext autoreload\n"
          ],
          "name": "stdout"
        }
      ]
    },
    {
      "cell_type": "code",
      "metadata": {
        "colab": {
          "base_uri": "https://localhost:8080/"
        },
        "id": "iP63bELaR3Jv",
        "outputId": "2039a5cb-7048-4ac3-bb39-8f991f40f3ba"
      },
      "source": [
        "cd /content/drive/My Drive/github_drive/code"
      ],
      "execution_count": null,
      "outputs": [
        {
          "output_type": "stream",
          "text": [
            "/content/drive/My Drive/github_drive/code\n"
          ],
          "name": "stdout"
        }
      ]
    },
    {
      "cell_type": "code",
      "metadata": {
        "id": "dMAIWOZqUgKf"
      },
      "source": [
        "# Un-comment and install one package at a time\r\n",
        "# !pip install sktime\r\n",
        "!pip install lime"
      ],
      "execution_count": null,
      "outputs": []
    },
    {
      "cell_type": "markdown",
      "metadata": {
        "id": "dm6Npg_pVx5A"
      },
      "source": [
        "### Explain TS with LIME"
      ]
    },
    {
      "cell_type": "markdown",
      "metadata": {
        "id": "yu4QgQTiWD-D"
      },
      "source": [
        "You can use this piece of codes to replace the utils.lime_timeseries module in utils folder"
      ]
    },
    {
      "cell_type": "code",
      "metadata": {
        "id": "BsHI6kiXVyI_"
      },
      "source": [
        "import numpy as np\r\n",
        "import sklearn\r\n",
        "from lime import explanation\r\n",
        "from lime import lime_base\r\n",
        "import math\r\n",
        "\r\n",
        "\r\n",
        "class LimeTimeSeriesExplanation(object):\r\n",
        "    \"\"\"Explains time series classifiers.\"\"\"\r\n",
        "\r\n",
        "    def __init__(self,\r\n",
        "                 kernel_width=25,\r\n",
        "                 verbose=False,\r\n",
        "                 class_names=None,\r\n",
        "                 feature_selection='auto',\r\n",
        "                 ):\r\n",
        "        \"\"\"Init function.\r\n",
        "        Args:\r\n",
        "            kernel_width: kernel width for the exponential kernel\r\n",
        "            verbose: if true, print local prediction values from linear model\r\n",
        "            class_names: list of class names, ordered according to whatever the\r\n",
        "            classifier is using. If not present, class names will be '0',\r\n",
        "                '1', ...\r\n",
        "            feature_selection: feature selection method. can be\r\n",
        "                'forward_selection', 'lasso_path', 'none' or 'auto'.\r\n",
        "        \"\"\"\r\n",
        "\r\n",
        "        # exponential kernel\r\n",
        "        def kernel(d): return np.sqrt(np.exp(-(d ** 2) / kernel_width ** 2))\r\n",
        "\r\n",
        "        self.base = lime_base.LimeBase(kernel, verbose)\r\n",
        "        self.class_names = class_names\r\n",
        "        self.feature_selection = feature_selection\r\n",
        "\r\n",
        "    def explain_instance(self,\r\n",
        "                         timeseries,\r\n",
        "                         classifier_fn,\r\n",
        "                         training_set,\r\n",
        "                         num_slices,\r\n",
        "                         labels=(1,),\r\n",
        "                         top_labels=None,\r\n",
        "                         num_features=10,\r\n",
        "                         num_samples=5000,\r\n",
        "                         distance_metric='cosine',\r\n",
        "                         model_regressor=None,\r\n",
        "                         replacement_method='mean'):\r\n",
        "        \"\"\"Generates explanations for a prediction.\r\n",
        "        Args:\r\n",
        "            time_series: Time Series to be explained.\r\n",
        "            classifier_fn: classifier prediction probability function\r\n",
        "            num_slices: Defines into how many slices the series will be split up\r\n",
        "            labels: iterable with labels to be explained.\r\n",
        "            top_labels: if not None, ignore labels and produce explanations for\r\n",
        "            the K labels with highest prediction probabilities, where K is\r\n",
        "            this parameter.\r\n",
        "            num_features: maximum number of features present in explanation\r\n",
        "            num_samples: size of the neighborhood to learn the linear model\r\n",
        "            distance_metric: the distance metric to use for sample weighting,\r\n",
        "            defaults to cosine similarity\r\n",
        "            model_regressor: sklearn regressor to use in explanation. Defaults\r\n",
        "            to Ridge regression in LimeBase. Must have model_regressor.coef_\r\n",
        "            and 'sample_weight' as a parameter to model_regressor.fit()\r\n",
        "        Returns:\r\n",
        "            An Explanation object (see explanation.py) with the corresponding\r\n",
        "            explanations.\r\n",
        "       \"\"\"\r\n",
        "        domain_mapper = explanation.DomainMapper()\r\n",
        "        data, yss, distances = self.__data_labels_distances(timeseries, classifier_fn, num_samples, num_slices,\r\n",
        "                                                            training_set, replacement_method)\r\n",
        "        if self.class_names is None:\r\n",
        "            self.class_names = [str(x) for x in range(yss[0].shape[0])]\r\n",
        "        ret_exp = explanation.Explanation(domain_mapper=domain_mapper, class_names=self.class_names)\r\n",
        "        ret_exp.predict_proba = yss[0]\r\n",
        "        for label in labels:\r\n",
        "            (ret_exp.intercept[int(label)],\r\n",
        "             ret_exp.local_exp[int(label)],\r\n",
        "             ret_exp.score, ret_exp.local_pred) = self.base.explain_instance_with_data(data, yss, distances, label,\r\n",
        "                                                                                       num_features,\r\n",
        "                                                                                       feature_selection=self.feature_selection)\r\n",
        "        ret_exp.local_exp = {k: [(int(j1), float(j2)) for j1, j2 in v] for k, v in ret_exp.local_exp.items()}\r\n",
        "        return ret_exp\r\n",
        "\r\n",
        "    @classmethod\r\n",
        "    def __data_labels_distances(cls,\r\n",
        "                                time_series,\r\n",
        "                                classifier_fn,\r\n",
        "                                num_samples,\r\n",
        "                                num_slices,\r\n",
        "                                training_set,\r\n",
        "                                replacement_method='mean'):\r\n",
        "        \"\"\"Generates a neighborhood around a prediction.\r\n",
        "        Generates neighborhood data by randomly removing words from\r\n",
        "        the instance, and predicting with the classifier. Uses cosine distance\r\n",
        "        to compute distances between original and perturbed instances.\r\n",
        "        Args:\r\n",
        "            time_series: Time Series to be explained.\r\n",
        "            classifier_fn: classifier prediction probability function, which\r\n",
        "                takes a time series and outputs prediction probabilities. For\r\n",
        "                ScikitClassifier, this is classifier.predict_proba.\r\n",
        "            num_samples: size of the neighborhood to learn the linear model\r\n",
        "            num_slices: how many slices the time series will be split into for discretization.\r\n",
        "            training_set: set of which the mean will be computed to use as 'inactive' values.\r\n",
        "            replacement_method: Defines how individual slice will be deactivated (can be 'mean', 'total_mean', 'noise')\r\n",
        "        Returns:\r\n",
        "            A tuple (data, labels, distances), where:\r\n",
        "                data: dense num_samples * K binary matrix, where K is the\r\n",
        "                    number of tokens in indexed_string. The first row is the\r\n",
        "                    original instance, and thus a row of ones.\r\n",
        "                labels: num_samples * L matrix, where L is the number of target\r\n",
        "                    labels\r\n",
        "                distances: cosine distance between the original instance and\r\n",
        "                    each perturbed instance (computed in the binary 'data'\r\n",
        "                    matrix), times 100.\r\n",
        "        \"\"\"\r\n",
        "\r\n",
        "        def distance_fn(x):\r\n",
        "            return sklearn.metrics.pairwise.pairwise_distances(\r\n",
        "                x, x[0].reshape([1, -1]), metric='cosine').ravel() * 100\r\n",
        "\r\n",
        "        # split time_series into slices\r\n",
        "        values_per_slice = math.ceil(len(time_series) / num_slices)\r\n",
        "\r\n",
        "        # compute randomly how many slices will be switched off\r\n",
        "        sample = np.random.randint(1, num_slices + 1, num_samples - 1)\r\n",
        "        data = np.ones((num_samples, num_slices))\r\n",
        "        features_range = range(num_slices)\r\n",
        "        inverse_data = [time_series.copy()]\r\n",
        "\r\n",
        "        for i, size in enumerate(sample, start=1):\r\n",
        "            inactive = np.random.choice(features_range, size, replace=False)\r\n",
        "            # set inactive slice to mean of training_set\r\n",
        "            data[i, inactive] = 0\r\n",
        "            tmp_series = time_series.copy()\r\n",
        "\r\n",
        "            for i, inact in enumerate(inactive, start=1):\r\n",
        "                index = inact * values_per_slice\r\n",
        "                if replacement_method == 'mean':\r\n",
        "                    # use mean as inactive\r\n",
        "                    tmp_series[index:(index + values_per_slice)] = np.mean(\r\n",
        "                        training_set[:, index:(index + values_per_slice)].mean())\r\n",
        "                elif replacement_method == 'noise':\r\n",
        "                    # use random noise as inactive\r\n",
        "                    tmp_series[index:(index + values_per_slice)] = np.random.uniform(np.amin(training_set),\r\n",
        "                                                                                        np.amax(training_set), len(\r\n",
        "                            tmp_series[index:(index + values_per_slice)]))\r\n",
        "                elif replacement_method == 'total_mean':\r\n",
        "                    # use total mean as inactive\r\n",
        "                    tmp_series[index:(index + values_per_slice)] = np.mean(training_set.mean())\r\n",
        "            inverse_data.append(tmp_series)\r\n",
        "        labels = classifier_fn(np.expand_dims(np.asarray(inverse_data), 1))\r\n",
        "        distances = distance_fn(data)\r\n",
        "        return data, labels, distances"
      ],
      "execution_count": null,
      "outputs": []
    },
    {
      "cell_type": "markdown",
      "metadata": {
        "id": "tU5h2220G_rC"
      },
      "source": [
        "# Get Explanation weights - LIME"
      ]
    },
    {
      "cell_type": "code",
      "metadata": {
        "id": "VdFnMvbBG_rQ",
        "colab": {
          "base_uri": "https://localhost:8080/"
        },
        "outputId": "8b5f644f-7b26-48cb-e377-978119848ce3"
      },
      "source": [
        "import math\n",
        "import pandas as pd\n",
        "import numpy as np\n",
        "import os\n",
        "\n",
        "from sklearn.neighbors import KNeighborsClassifier as KNN\n",
        "from sklearn.metrics import accuracy_score \n",
        "from sklearn import metrics\n",
        "\n",
        "\n",
        "from sktime.classification.shapelet_based import MrSEQLClassifier\n",
        "from sktime.utils.data_processing import from_2d_array_to_nested, is_nested_dataframe\n",
        "\n",
        "from lime import explanation\n",
        "from lime import lime_base\n",
        "# from utils.lime_timeseries import LimeTimeSeriesExplanation"
      ],
      "execution_count": null,
      "outputs": [
        {
          "output_type": "stream",
          "text": [
            "/usr/local/lib/python3.6/dist-packages/numba/np/ufunc/parallel.py:363: NumbaWarning: The TBB threading layer requires TBB version 2019.5 or later i.e., TBB_INTERFACE_VERSION >= 11005. Found TBB_INTERFACE_VERSION = 9107. The TBB threading layer is disabled.\n",
            "  warnings.warn(problem)\n"
          ],
          "name": "stderr"
        }
      ]
    },
    {
      "cell_type": "markdown",
      "metadata": {
        "id": "AsjGZTOIG_rR"
      },
      "source": [
        "### 1. Classify by Mr-SEQL"
      ]
    },
    {
      "cell_type": "code",
      "metadata": {
        "colab": {
          "base_uri": "https://localhost:8080/"
        },
        "id": "1Ck_sBHeQWw1",
        "outputId": "255c8ebd-f9ba-4824-8f5a-def7e5d0cf37"
      },
      "source": [
        "ds='CMJ'\r\n",
        "ds_dir = 'data'\r\n",
        "\r\n",
        "train_file =  os.path.join(ds_dir, ds, ds+'_TRAIN')\r\n",
        "test_file  = os.path.join(ds_dir, ds, ds+'_TEST')\r\n",
        "\r\n",
        "# load train data\r\n",
        "train_data = np.genfromtxt(train_file,delimiter=',')\r\n",
        "\r\n",
        "train_x = np.expand_dims(train_data[:,1:], 1) # pass a 3D array shape (None, n_channel, channel_val). Pad extra dimension to 2D channel to make it 3D\r\n",
        "train_y = train_data[:,0]\r\n",
        "\r\n",
        "\r\n",
        "ms = MrSEQLClassifier(seql_mode=\"fs\")\r\n",
        "ms.fit(train_x,train_y)\r\n",
        "    \r\n",
        "\r\n",
        "# load test data\r\n",
        "test_data = np.genfromtxt(test_file,delimiter=',')\r\n",
        "\r\n",
        "test_x = np.expand_dims(test_data[:,1:], 1)\r\n",
        "test_y = test_data[:,0]\r\n",
        "\r\n",
        "# # prediction\r\n",
        "predicted = ms.predict(test_x)\r\n",
        "\r\n",
        "# # Classification accuracy\r\n",
        "print(\"Accuracy with mr-seql: %2.4f\" % metrics.accuracy_score(test_y, predicted))"
      ],
      "execution_count": null,
      "outputs": [
        {
          "output_type": "stream",
          "text": [
            "Accuracy with mr-seql: 0.9609\n"
          ],
          "name": "stdout"
        }
      ]
    },
    {
      "cell_type": "code",
      "metadata": {
        "colab": {
          "base_uri": "https://localhost:8080/"
        },
        "id": "o9EIcjOsQlzV",
        "outputId": "85595753-1e4c-4225-c340-791c8f7a91f1"
      },
      "source": [
        "train_x.shape"
      ],
      "execution_count": null,
      "outputs": [
        {
          "output_type": "execute_result",
          "data": {
            "text/plain": [
              "(419, 1, 500)"
            ]
          },
          "metadata": {
            "tags": []
          },
          "execution_count": 29
        }
      ]
    },
    {
      "cell_type": "markdown",
      "metadata": {
        "id": "0dGqKGiKG_rT"
      },
      "source": [
        "### 2. Get & Save the explanation weights by LIME"
      ]
    },
    {
      "cell_type": "code",
      "metadata": {
        "id": "dQHsmyr_JpzD"
      },
      "source": [
        "# Reload Test data as 2D array numpy format:\r\n",
        "test_x = test_data[:,1:]\r\n",
        "train_x = train_data[:,1:]"
      ],
      "execution_count": null,
      "outputs": []
    },
    {
      "cell_type": "code",
      "metadata": {
        "id": "Wwz4LS9gG_rU",
        "colab": {
          "base_uri": "https://localhost:8080/"
        },
        "outputId": "2d206c19-7869-4003-85a5-39867261cc74"
      },
      "source": [
        "num_features = 10\n",
        "num_slices = 10\n",
        "num_sample = len(test_y)\n",
        "explainer = LimeTimeSeriesExplanation(class_names=['0', '1','2'], feature_selection='auto')\n",
        "features = np.empty(dtype=float, shape=(0,num_features))\n",
        "\n",
        "# for idx in range(num_sample):\n",
        "for idx in range(num_sample):\n",
        "    series = test_x[idx, :]\n",
        "    exp = explainer.explain_instance(series, ms.predict_proba, num_features=num_features, num_samples=500, num_slices=num_slices, \n",
        "                                 replacement_method='total_mean', training_set=train_x)\n",
        "    temp, ans = [], []\n",
        "    for i in range(num_features):\n",
        "        feature, weight = exp.as_list()[i]\n",
        "        temp.append((feature,weight))\n",
        "    temp.sort()\n",
        "    for _, val in temp: ans.append(val)\n",
        "    features = np.append(features, np.array([ans]), axis = 0)    \n",
        "\n",
        "print(features.shape)\n",
        "\n"
      ],
      "execution_count": null,
      "outputs": [
        {
          "output_type": "stream",
          "text": [
            "(179, 10)\n"
          ],
          "name": "stdout"
        }
      ]
    },
    {
      "cell_type": "markdown",
      "metadata": {
        "id": "EAOSMio_WVGy"
      },
      "source": [
        "### Save the weight to local folder"
      ]
    },
    {
      "cell_type": "code",
      "metadata": {
        "id": "cPT0DR4pG_rW"
      },
      "source": [
        "fileName = 'output/explanation_weight/weights_LIME_%s.txt' % ds\n",
        "\n",
        "np.savetxt(fileName, features, delimiter=\",\")"
      ],
      "execution_count": 47,
      "outputs": []
    },
    {
      "cell_type": "markdown",
      "metadata": {
        "id": "KUYmj5gYiEUX"
      },
      "source": [
        "# Visualize Explanation Weight"
      ]
    },
    {
      "cell_type": "markdown",
      "metadata": {
        "id": "arQwLXnpiJvE"
      },
      "source": [
        "## Define Function\r\n"
      ]
    },
    {
      "cell_type": "code",
      "metadata": {
        "id": "CUBoUKcqiEAL"
      },
      "source": [
        "import matplotlib.pyplot as plt\r\n",
        "from sklearn import preprocessing\r\n",
        "from scipy.interpolate import interp1d\r\n",
        "\r\n",
        "def visualize_example(example_idx, explanation_weight , ds = 'CMJ'):\r\n",
        "    idx = example_idx\r\n",
        "    test_file  = os.path.join(ds_dir, ds, ds+'_TEST')\r\n",
        "    test_data = np.genfromtxt(test_file, delimiter=',')\r\n",
        "    test_x, test_y  = test_data[:,1:], test_data[:,0]\r\n",
        "\r\n",
        "    le = preprocessing.LabelEncoder()\r\n",
        "    le.fit(test_y)\r\n",
        "    transformed_test_y = le.transform(test_y)\r\n",
        "    n_class = np.unique(transformed_test_y).shape[0]\r\n",
        "    \r\n",
        "    def transform(X):\r\n",
        "        ma,mi = np.max(X), np.min(X)\r\n",
        "        X = (X - mi)/(ma-mi)\r\n",
        "        return X*100\r\n",
        "    weight = abs(explanation_weight[idx])\r\n",
        "    weight = transform(weight)\r\n",
        "    ts = test_x[idx]\r\n",
        "    \r\n",
        "    \r\n",
        "    max_length1, max_length2 = len(ts),10000 #\r\n",
        "    x1 = np.linspace(0,max_length1,num = max_length1)\r\n",
        "    x2 = np.linspace(0,max_length1,num = max_length2)\r\n",
        "    y1 = ts\r\n",
        "    \r\n",
        "    f = interp1d(x1, y1) # interpolate time series\r\n",
        "    fcas = interp1d(x1, weight) # interpolate weight color\r\n",
        "    weight = fcas(x2) # convert vector of original weight vector to new weight vector\r\n",
        "\r\n",
        "    plt.scatter(x2,f(x2), c = weight, cmap = 'jet', marker='.', s= 1,vmin=0,vmax = 100)\r\n",
        "    plt.xlabel('Explanation for index %d, dataset %s' %(example_idx, ds))\r\n",
        "    plt.show()\r\n",
        "\r\n",
        "\r\n",
        "\r\n",
        "def get_explanation_weight(explanation_method, ds):\r\n",
        "    test_file  = os.path.join(ds_dir, ds, ds+'_TEST')\r\n",
        "    test_data = np.genfromtxt(test_file, delimiter=',')\r\n",
        "    test_x, test_y  = test_data[:,1:], test_data[:,0]\r\n",
        "    \r\n",
        "    if explanation_method == 'MrSEQL-SM':        explanation_weight_file = 'output/explanation_weight/weights_MrSEQL_%s.txt' % ds\r\n",
        "    elif explanation_method == 'MrSEQL-LIME':    explanation_weight_file = 'output/explanation_weight/weights_LIME_%s.txt' % ds\r\n",
        "    elif explanation_method == 'ResNet-CAM':      explanation_weight_file = 'output/resnet_weights/ResNet_%s_BestModel.hdf5_model_weights.txt' % ds\r\n",
        "    else: \r\n",
        "        print('ERROR')\r\n",
        "    explanation_weight = np.genfromtxt(explanation_weight_file, delimiter = ',')\r\n",
        "    if explanation_method =='MrSEQL-LIME': \r\n",
        "        repeat_times = test_x.shape[1]//10\r\n",
        "        explanation_weight = np.repeat(explanation_weight, repeat_times).reshape(test_y.shape[0],-1)\r\n",
        "#     explanation_weight = abs(explanation_weight)\r\n",
        "    return explanation_weight"
      ],
      "execution_count": 48,
      "outputs": []
    },
    {
      "cell_type": "markdown",
      "metadata": {
        "id": "3jV0FCgZiL7D"
      },
      "source": [
        "## Visualize"
      ]
    },
    {
      "cell_type": "code",
      "metadata": {
        "id": "R2q9n2q3G_rX"
      },
      "source": [
        "example_li  =  [18,70,150] # indices of the examples\r\n",
        "ds = 'CMJ'\r\n",
        "method = 'MrSEQL-LIME'\r\n",
        "weight = get_explanation_weight(explanation_method=method, ds = ds)\r\n"
      ],
      "execution_count": 49,
      "outputs": []
    },
    {
      "cell_type": "code",
      "metadata": {
        "id": "Vy9T4ptMQHsO",
        "colab": {
          "base_uri": "https://localhost:8080/",
          "height": 803
        },
        "outputId": "308020b1-d096-4db9-e3e0-c2887d48dd5a"
      },
      "source": [
        "for idx in example_li:\r\n",
        "  visualize_example(example_idx= idx, explanation_weight=weight, ds = ds)"
      ],
      "execution_count": 50,
      "outputs": [
        {
          "output_type": "display_data",
          "data": {
            "image/png": "[encoded data removed]",
            "text/plain": [
              "<Figure size 432x288 with 1 Axes>"
            ]
          },
          "metadata": {
            "tags": [],
            "needs_background": "light"
          }
        },
        {
          "output_type": "display_data",
          "data": {
            "image/png": "[encoded data removed]",
            "text/plain": [
              "<Figure size 432x288 with 1 Axes>"
            ]
          },
          "metadata": {
            "tags": [],
            "needs_background": "light"
          }
        },
        {
          "output_type": "display_data",
          "data": {
            "image/png": "[encoded data removed]",
            "text/plain": [
              "<Figure size 432x288 with 1 Axes>"
            ]
          },
          "metadata": {
            "tags": [],
            "needs_background": "light"
          }
        }
      ]
    },
    {
      "cell_type": "code",
      "metadata": {
        "id": "qXvCPW5Lipjq"
      },
      "source": [
        ""
      ],
      "execution_count": null,
      "outputs": []
    }
  ]
}