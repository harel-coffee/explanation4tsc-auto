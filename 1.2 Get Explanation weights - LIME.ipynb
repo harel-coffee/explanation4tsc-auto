{
 "cells": [
  {
   "cell_type": "markdown",
   "metadata": {},
   "source": [
    "# Get Explanation weights - LIME"
   ]
  },
  {
   "cell_type": "code",
   "execution_count": 16,
   "metadata": {},
   "outputs": [
    {
     "name": "stdout",
     "output_type": "stream",
     "text": [
      "The autoreload extension is already loaded. To reload it, use:\n",
      "  %reload_ext autoreload\n"
     ]
    }
   ],
   "source": [
    "%load_ext autoreload\n",
    "%autoreload 2"
   ]
  },
  {
   "cell_type": "code",
   "execution_count": 8,
   "metadata": {},
   "outputs": [],
   "source": [
    "import math\n",
    "import pandas as pd\n",
    "import numpy as np\n",
    "import matplotlib.pyplot as plt\n",
    "import os\n",
    "import time\n",
    "\n",
    "from sklearn.neighbors import KNeighborsClassifier as KNN\n",
    "from sklearn.metrics import accuracy_score \n",
    "from sklearn import metrics\n",
    "\n",
    "from lime import explanation\n",
    "from lime import lime_base\n",
    "from utils.lime_timeseries import LimeTimeSeriesExplanation"
   ]
  },
  {
   "cell_type": "markdown",
   "metadata": {},
   "source": [
    "### 1. Classify by Mr-SEQL"
   ]
  },
  {
   "cell_type": "code",
   "execution_count": 9,
   "metadata": {},
   "outputs": [
    {
     "name": "stdout",
     "output_type": "stream",
     "text": [
      "Symbolic methods: sax\n",
      "No symbolic parameters found. To be generated later.\n",
      "Classification Method: SEQL as feature selection\n",
      "Accuracy with mr-seql: 0.9867\n"
     ]
    }
   ],
   "source": [
    "from sktime.classifiers.shapelet_based import MrSEQLClassifier\n",
    "\n",
    "ds='GunPoint'\n",
    "ds_dir = 'data'\n",
    "\n",
    "train_file =  os.path.join(ds_dir, ds, ds+'_TRAIN')\n",
    "test_file  = os.path.join(ds_dir, ds, ds+'_TEST')\n",
    "\n",
    "# load train data\n",
    "train_data = np.genfromtxt(train_file,delimiter=',')\n",
    "\n",
    "# train_data = np.genfromtxt(train_file)\n",
    "train_x = train_data[:,1:]\n",
    "train_y = train_data[:,0]\n",
    "\n",
    "# Create mrseql object\n",
    "ms = MrSEQLClassifier(seql_mode='fs')\n",
    "\n",
    "# Mr-SEQL Custom Configuration\n",
    "# ms.mode(seql_mode='fs') # to use SEQL as feature selection\n",
    "# ms.mode(seql_mode='clf') # to use Ensemble SEQL (default)\n",
    "# ms.symbol_representations(['sax','sfa']) # only sax by default\n",
    "\n",
    "# Short summary of the methods used.\n",
    "ms.summary()\n",
    "\n",
    "# fit training data\n",
    "ms.fit(train_x,train_y)\n",
    "\n",
    "# load test data\n",
    "test_data = np.genfromtxt(test_file,delimiter=',')\n",
    "test_x = test_data[:,1:]\n",
    "test_y = test_data[:,0]\n",
    "\n",
    "# # prediction\n",
    "predicted = ms.predict(test_x)\n",
    "\n",
    "# # Classification accuracy\n",
    "print(\"Accuracy with mr-seql: %2.4f\" % metrics.accuracy_score(test_y, predicted))"
   ]
  },
  {
   "cell_type": "code",
   "execution_count": 10,
   "metadata": {},
   "outputs": [
    {
     "data": {
      "text/plain": [
       "(150, 150)"
      ]
     },
     "execution_count": 10,
     "metadata": {},
     "output_type": "execute_result"
    }
   ],
   "source": [
    "test_x.shape"
   ]
  },
  {
   "cell_type": "markdown",
   "metadata": {},
   "source": [
    "### 2. Get & Save the explanation weights by LIME"
   ]
  },
  {
   "cell_type": "code",
   "execution_count": 11,
   "metadata": {},
   "outputs": [
    {
     "name": "stdout",
     "output_type": "stream",
     "text": [
      "(150, 10)\n"
     ]
    }
   ],
   "source": [
    "\n",
    "num_features = 10\n",
    "num_slices = 10\n",
    "num_sample = len(test_y)\n",
    "explainer = LimeTimeSeriesExplanation(feature_selection='auto')\n",
    "features = np.empty(dtype=float, shape=(0,num_features))\n",
    "\n",
    "# for idx in range(num_sample):\n",
    "for idx in range(num_sample):\n",
    "    series = test_x[idx, :]\n",
    "    exp = explainer.explain_instance(series, ms.predict_proba, num_features=num_features, num_samples=500, num_slices=num_slices, \n",
    "                                 replacement_method='total_mean', training_set=train_x)\n",
    "    temp, ans = [], []\n",
    "    for i in range(num_features):\n",
    "        feature, weight = exp.as_list()[i]\n",
    "        temp.append((feature,weight))\n",
    "    temp.sort()\n",
    "    for _, val in temp: ans.append(val)\n",
    "    features = np.append(features, np.array([ans]), axis = 0)    \n",
    "\n",
    "print(features.shape)\n",
    "\n"
   ]
  },
  {
   "cell_type": "code",
   "execution_count": 15,
   "metadata": {},
   "outputs": [],
   "source": [
    "fileName = 'output/explanation_weight/weights_LIME_%s.txt' % ds\n",
    "\n",
    "np.savetxt(fileName, features, delimiter=\",\")"
   ]
  },
  {
   "cell_type": "code",
   "execution_count": null,
   "metadata": {},
   "outputs": [],
   "source": []
  }
 ],
 "metadata": {
  "kernelspec": {
   "display_name": "Python 3",
   "language": "python",
   "name": "python3"
  },
  "language_info": {
   "codemirror_mode": {
    "name": "ipython",
    "version": 3
   },
   "file_extension": ".py",
   "mimetype": "text/x-python",
   "name": "python",
   "nbconvert_exporter": "python",
   "pygments_lexer": "ipython3",
   "version": "3.7.4"
  }
 },
 "nbformat": 4,
 "nbformat_minor": 2
}
