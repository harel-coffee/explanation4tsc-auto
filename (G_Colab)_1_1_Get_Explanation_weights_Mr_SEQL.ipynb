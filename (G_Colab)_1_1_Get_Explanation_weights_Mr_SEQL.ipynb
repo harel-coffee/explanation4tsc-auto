{
  "nbformat": 4,
  "nbformat_minor": 0,
  "metadata": {
    "kernelspec": {
      "display_name": "Python 3",
      "language": "python",
      "name": "python3"
    },
    "language_info": {
      "codemirror_mode": {
        "name": "ipython",
        "version": 3
      },
      "file_extension": ".py",
      "mimetype": "text/x-python",
      "name": "python",
      "nbconvert_exporter": "python",
      "pygments_lexer": "ipython3",
      "version": "3.7.4"
    },
    "colab": {
      "name": "(G-Colab) 1.1 Get Explanation weights - Mr-SEQL.ipynb",
      "provenance": [],
      "collapsed_sections": [
        "SYA1mbppUtjM",
        "CQDHQO_a1hxo"
      ],
      "toc_visible": true
    }
  },
  "cells": [
    {
      "cell_type": "markdown",
      "metadata": {
        "id": "SYA1mbppUtjM"
      },
      "source": [
        "# Prep"
      ]
    },
    {
      "cell_type": "code",
      "metadata": {
        "colab": {
          "base_uri": "https://localhost:8080/"
        },
        "id": "Y5W3alrlRDNG",
        "outputId": "afaf7e28-b6cb-40e3-db58-93d1ee090dab"
      },
      "source": [
        "from google.colab import drive\r\n",
        "drive.mount('/content/drive')"
      ],
      "execution_count": 1,
      "outputs": [
        {
          "output_type": "stream",
          "text": [
            "Drive already mounted at /content/drive; to attempt to forcibly remount, call drive.mount(\"/content/drive\", force_remount=True).\n"
          ],
          "name": "stdout"
        }
      ]
    },
    {
      "cell_type": "code",
      "metadata": {
        "colab": {
          "base_uri": "https://localhost:8080/"
        },
        "id": "iP63bELaR3Jv",
        "outputId": "6f505336-cc81-43c7-dbdb-7c607c1578a2"
      },
      "source": [
        "cd /content/drive/My Drive/github_drive/code"
      ],
      "execution_count": 2,
      "outputs": [
        {
          "output_type": "stream",
          "text": [
            "/content/drive/My Drive/github_drive/code\n"
          ],
          "name": "stdout"
        }
      ]
    },
    {
      "cell_type": "markdown",
      "metadata": {
        "id": "NWL77rNOYYwB"
      },
      "source": [
        "## Install sktime"
      ]
    },
    {
      "cell_type": "code",
      "metadata": {
        "id": "dMAIWOZqUgKf",
        "colab": {
          "base_uri": "https://localhost:8080/"
        },
        "outputId": "faed57d3-ab16-4745-ba43-ed2b2d2b49d7"
      },
      "source": [
        "!pip install sktime"
      ],
      "execution_count": 3,
      "outputs": [
        {
          "output_type": "stream",
          "text": [
            "Requirement already satisfied: sktime in /usr/local/lib/python3.6/dist-packages (0.5.2)\n",
            "Requirement already satisfied: wheel in /usr/local/lib/python3.6/dist-packages (from sktime) (0.36.2)\n",
            "Requirement already satisfied: numba>=0.50 in /usr/local/lib/python3.6/dist-packages (from sktime) (0.51.2)\n",
            "Requirement already satisfied: pandas>=1.1.0 in /usr/local/lib/python3.6/dist-packages (from sktime) (1.1.5)\n",
            "Requirement already satisfied: statsmodels>=0.12.1 in /usr/local/lib/python3.6/dist-packages (from sktime) (0.12.1)\n",
            "Requirement already satisfied: numpy>=1.19.0 in /usr/local/lib/python3.6/dist-packages (from sktime) (1.19.5)\n",
            "Requirement already satisfied: scikit-learn>=0.23.0 in /usr/local/lib/python3.6/dist-packages (from sktime) (0.24.1)\n",
            "Requirement already satisfied: setuptools in /usr/local/lib/python3.6/dist-packages (from numba>=0.50->sktime) (51.3.3)\n",
            "Requirement already satisfied: llvmlite<0.35,>=0.34.0.dev0 in /usr/local/lib/python3.6/dist-packages (from numba>=0.50->sktime) (0.34.0)\n",
            "Requirement already satisfied: pytz>=2017.2 in /usr/local/lib/python3.6/dist-packages (from pandas>=1.1.0->sktime) (2018.9)\n",
            "Requirement already satisfied: python-dateutil>=2.7.3 in /usr/local/lib/python3.6/dist-packages (from pandas>=1.1.0->sktime) (2.8.1)\n",
            "Requirement already satisfied: scipy>=1.1 in /usr/local/lib/python3.6/dist-packages (from statsmodels>=0.12.1->sktime) (1.4.1)\n",
            "Requirement already satisfied: patsy>=0.5 in /usr/local/lib/python3.6/dist-packages (from statsmodels>=0.12.1->sktime) (0.5.1)\n",
            "Requirement already satisfied: joblib>=0.11 in /usr/local/lib/python3.6/dist-packages (from scikit-learn>=0.23.0->sktime) (1.0.0)\n",
            "Requirement already satisfied: threadpoolctl>=2.0.0 in /usr/local/lib/python3.6/dist-packages (from scikit-learn>=0.23.0->sktime) (2.1.0)\n",
            "Requirement already satisfied: six>=1.5 in /usr/local/lib/python3.6/dist-packages (from python-dateutil>=2.7.3->pandas>=1.1.0->sktime) (1.15.0)\n"
          ],
          "name": "stdout"
        }
      ]
    },
    {
      "cell_type": "markdown",
      "metadata": {
        "id": "CQDHQO_a1hxo"
      },
      "source": [
        "## Save Weights functions: input as 2d numpy array"
      ]
    },
    {
      "cell_type": "code",
      "metadata": {
        "id": "Jw5kfkqGx0TI"
      },
      "source": [
        "def save_weight(model, test_data, labels, predicted, ds):\r\n",
        "        from sklearn import preprocessing\r\n",
        "        le = preprocessing.LabelEncoder()\r\n",
        "        le.fit(predicted)\r\n",
        "        new_predicted = le.transform(predicted)\r\n",
        "        weights = np.empty(dtype=float, shape=(0,test_data.shape[1]))\r\n",
        "        \r\n",
        "        # print('   Original    predicted class: ', np.unique(predicted))\r\n",
        "        # print('   Transformed predicted class: ', np.unique(new_predicted))\r\n",
        "        \r\n",
        "        \r\n",
        "        for i, ts in enumerate(test_data):\r\n",
        "            w = model.map_sax_model(ts)\r\n",
        "            pred_class = int(new_predicted[i])\r\n",
        "            w = [w[pred_class]]\r\n",
        "            \r\n",
        "            weights = np.append(weights, w, axis = 0)\r\n",
        "        fileName = 'output/explanation_weight/weights_MrSEQL_%s.txt' % ds\r\n",
        "        np.savetxt(fileName, weights, delimiter=\",\")"
      ],
      "execution_count": 4,
      "outputs": []
    },
    {
      "cell_type": "markdown",
      "metadata": {
        "id": "NP_obn2fQT9f"
      },
      "source": [
        "# Get Explanation weights - Mr-SEQL"
      ]
    },
    {
      "cell_type": "markdown",
      "metadata": {
        "id": "FuMH_6qP1mHN"
      },
      "source": [
        "## Import Libraries"
      ]
    },
    {
      "cell_type": "code",
      "metadata": {
        "id": "p6byR1pOQT9m"
      },
      "source": [
        "import os\n",
        "import numpy as np\n",
        "from sklearn import metrics\n",
        "\n",
        "\n",
        "from sktime.classification.shapelet_based import MrSEQLClassifier"
      ],
      "execution_count": 12,
      "outputs": []
    },
    {
      "cell_type": "code",
      "metadata": {
        "id": "KG0XFx56QT9o"
      },
      "source": [
        "ds_list = ['CBF', 'CMJ', 'Coffee', 'ECG200', 'GunPoint']\n",
        "ds_dir = 'data'\n"
      ],
      "execution_count": 11,
      "outputs": []
    },
    {
      "cell_type": "markdown",
      "metadata": {
        "id": "gTBuRg6bQT9o"
      },
      "source": [
        "## Train the Classifier with Mr-SEQL & save explanation weights"
      ]
    },
    {
      "cell_type": "code",
      "metadata": {
        "colab": {
          "base_uri": "https://localhost:8080/"
        },
        "id": "zR7w3jbmQT9p",
        "outputId": "406ad583-d1e8-4330-9b47-807f976a11fc"
      },
      "source": [
        "\n",
        "for ds in ds_list:\n",
        "    print('Dataset %s' %ds)\n",
        "    train_file =  os.path.join(ds_dir, ds, ds+'_TRAIN')\n",
        "    test_file  = os.path.join(ds_dir, ds, ds+'_TEST')\n",
        "\n",
        "    # load train data\n",
        "    train_data = np.genfromtxt(train_file,delimiter=',')\n",
        "    train_x = np.expand_dims(train_data[:,1:], 1)\n",
        "    train_y = train_data[:,0]\n",
        "    \n",
        "    ms = MrSEQLClassifier(seql_mode=\"fs\")\n",
        "    ms.fit(train_x,train_y)\n",
        "    \n",
        "    # load test data\n",
        "    test_data = np.genfromtxt(test_file, delimiter=',')\n",
        "    test_x = np.expand_dims(test_data[:,1:], 1)\n",
        "    test_y = test_data[:,0]\n",
        "\n",
        "    # # prediction\n",
        "    predicted = ms.predict(test_x)\n",
        "\n",
        "    # Classification accuracy\n",
        "    print(\"Accuracy with mr-seql: %2.4f\" % metrics.accuracy_score(test_y, predicted))\n",
        "    \n",
        "    # Reload Test data as 2D array numpy format:\n",
        "    test_x = test_data[:,1:]\n",
        "    save_weight(model = ms, test_data = test_x, labels = test_y, predicted = predicted, ds = ds)\n",
        "    print('DONE. weight_saved. ')\n",
        "   "
      ],
      "execution_count": 7,
      "outputs": [
        {
          "output_type": "stream",
          "text": [
            "Dataset CBF\n",
            "Accuracy with mr-seql: 0.9989\n",
            "DONE. weight_saved. \n",
            "Dataset CMJ\n",
            "Accuracy with mr-seql: 0.9609\n",
            "DONE. weight_saved. \n",
            "Dataset Coffee\n",
            "Accuracy with mr-seql: 1.0000\n",
            "DONE. weight_saved. \n",
            "Dataset ECG200\n",
            "Accuracy with mr-seql: 0.8500\n",
            "DONE. weight_saved. \n",
            "Dataset GunPoint\n",
            "Accuracy with mr-seql: 0.9867\n",
            "DONE. weight_saved. \n"
          ],
          "name": "stdout"
        }
      ]
    },
    {
      "cell_type": "code",
      "metadata": {
        "id": "42MYkCprzYqw"
      },
      "source": [
        ""
      ],
      "execution_count": 7,
      "outputs": []
    },
    {
      "cell_type": "markdown",
      "metadata": {
        "id": "VTmDnjfrZym7"
      },
      "source": [
        "# Visualize Explanation Weights\r\n"
      ]
    },
    {
      "cell_type": "markdown",
      "metadata": {
        "id": "EpB76ASreOLp"
      },
      "source": [
        "## Define Function"
      ]
    },
    {
      "cell_type": "code",
      "metadata": {
        "id": "wHbdALvmaDaU"
      },
      "source": [
        "import matplotlib.pyplot as plt\r\n",
        "from sklearn import preprocessing\r\n",
        "from scipy.interpolate import interp1d\r\n",
        "\r\n",
        "def visualize_example(example_idx, explanation_weight , ds = 'CMJ'):\r\n",
        "    idx = example_idx\r\n",
        "    test_file  = os.path.join(ds_dir, ds, ds+'_TEST')\r\n",
        "    test_data = np.genfromtxt(test_file, delimiter=',')\r\n",
        "    test_x, test_y  = test_data[:,1:], test_data[:,0]\r\n",
        "\r\n",
        "    le = preprocessing.LabelEncoder()\r\n",
        "    le.fit(test_y)\r\n",
        "    transformed_test_y = le.transform(test_y)\r\n",
        "    n_class = np.unique(transformed_test_y).shape[0]\r\n",
        "    \r\n",
        "    def transform(X):\r\n",
        "        ma,mi = np.max(X), np.min(X)\r\n",
        "        X = (X - mi)/(ma-mi)\r\n",
        "        return X*100\r\n",
        "    weight = abs(explanation_weight[idx])\r\n",
        "    weight = transform(weight)\r\n",
        "    ts = test_x[idx]\r\n",
        "    \r\n",
        "    \r\n",
        "    max_length1, max_length2 = len(ts),10000 #\r\n",
        "    x1 = np.linspace(0,max_length1,num = max_length1)\r\n",
        "    x2 = np.linspace(0,max_length1,num = max_length2)\r\n",
        "    y1 = ts\r\n",
        "    \r\n",
        "    f = interp1d(x1, y1) # interpolate time series\r\n",
        "    fcas = interp1d(x1, weight) # interpolate weight color\r\n",
        "    weight = fcas(x2) # convert vector of original weight vector to new weight vector\r\n",
        "\r\n",
        "    plt.scatter(x2,f(x2), c = weight, cmap = 'jet', marker='.', s= 1,vmin=0,vmax = 100)\r\n",
        "    plt.xlabel('Explanation for index %d, dataset %s' %(example_idx, ds))\r\n",
        "    plt.show()\r\n",
        "\r\n",
        "\r\n",
        "\r\n",
        "def get_explanation_weight(explanation_method, ds):\r\n",
        "    test_file  = os.path.join(ds_dir, ds, ds+'_TEST')\r\n",
        "    test_data = np.genfromtxt(test_file, delimiter=',')\r\n",
        "    test_x, test_y  = test_data[:,1:], test_data[:,0]\r\n",
        "    \r\n",
        "    if explanation_method == 'MrSEQL-SM':        explanation_weight_file = 'output/explanation_weight/weights_MrSEQL_%s.txt' % ds\r\n",
        "    elif explanation_method == 'MrSEQL-LIME':    explanation_weight_file = 'output/explanation_weight/weights_LIME_%s.txt' % ds\r\n",
        "    elif explanation_method == 'ResNet-CAM':      explanation_weight_file = 'output/resnet_weights/ResNet_%s_BestModel.hdf5_model_weights.txt' % ds\r\n",
        "    else: \r\n",
        "        print('ERROR')\r\n",
        "    explanation_weight = np.genfromtxt(explanation_weight_file, delimiter = ',')\r\n",
        "    if explanation_method =='MrSEQL-LIME': \r\n",
        "        repeat_times = test_x.shape[1]//10\r\n",
        "        explanation_weight = np.repeat(explanation_weight, repeat_times).reshape(test_y.shape[0],-1)\r\n",
        "#     explanation_weight = abs(explanation_weight)\r\n",
        "    return explanation_weight"
      ],
      "execution_count": 35,
      "outputs": []
    },
    {
      "cell_type": "markdown",
      "metadata": {
        "id": "a-fGcH9CeU_O"
      },
      "source": [
        "## Visualize"
      ]
    },
    {
      "cell_type": "code",
      "metadata": {
        "id": "3zw7fASTaD9R"
      },
      "source": [
        "example_li  =  [18,70,150] # indices of the examples\r\n",
        "ds = 'CMJ'\r\n",
        "method = 'MrSEQL-SM'\r\n",
        "weight = get_explanation_weight(explanation_method=method, ds = ds)\r\n"
      ],
      "execution_count": 32,
      "outputs": []
    },
    {
      "cell_type": "code",
      "metadata": {
        "colab": {
          "base_uri": "https://localhost:8080/",
          "height": 803
        },
        "id": "8kh3R5QYemh0",
        "outputId": "aba14866-8299-458c-c55b-eafe993c4835"
      },
      "source": [
        "for idx in example_li:\r\n",
        "  visualize_example(example_idx= idx, explanation_weight=weight, ds = ds)"
      ],
      "execution_count": 36,
      "outputs": [
        {
          "output_type": "display_data",
          "data": {
            "image/png": "[encoded data removed]",
            "text/plain": [
              "<Figure size 432x288 with 1 Axes>"
            ]
          },
          "metadata": {
            "tags": [],
            "needs_background": "light"
          }
        },
        {
          "output_type": "display_data",
          "data": {
            "image/png": "[encoded data removed]",
            "text/plain": [
              "<Figure size 432x288 with 1 Axes>"
            ]
          },
          "metadata": {
            "tags": [],
            "needs_background": "light"
          }
        },
        {
          "output_type": "display_data",
          "data": {
            "image/png": "[encoded data removed]",
            "text/plain": [
              "<Figure size 432x288 with 1 Axes>"
            ]
          },
          "metadata": {
            "tags": [],
            "needs_background": "light"
          }
        }
      ]
    },
    {
      "cell_type": "code",
      "metadata": {
        "id": "6Jrpsh14enxG"
      },
      "source": [
        ""
      ],
      "execution_count": null,
      "outputs": []
    }
  ]
}