{
  "nbformat": 4,
  "nbformat_minor": 0,
  "metadata": {
    "kernelspec": {
      "name": "python3",
      "display_name": "Python 3"
    },
    "language_info": {
      "codemirror_mode": {
        "name": "ipython",
        "version": 3
      },
      "file_extension": ".py",
      "mimetype": "text/x-python",
      "name": "python",
      "nbconvert_exporter": "python",
      "pygments_lexer": "ipython3",
      "version": "3.7.3"
    },
    "colab": {
      "name": "1.3 Get Explanation weights - ResNet-CAM.ipynb",
      "provenance": [],
      "collapsed_sections": []
    },
    "accelerator": "GPU"
  },
  "cells": [
    {
      "cell_type": "code",
      "metadata": {
        "id": "iG8ktBzXVrlE",
        "colab_type": "code",
        "colab": {
          "base_uri": "https://localhost:8080/",
          "height": 122
        },
        "outputId": "3eb1650e-5ed1-4094-ea19-cbc8b55b5d74"
      },
      "source": [
        "from google.colab import drive\n",
        "drive.mount('/content/drive')"
      ],
      "execution_count": null,
      "outputs": [
        {
          "output_type": "stream",
          "text": [
            "Go to this URL in a browser: https://accounts.google.com/o/oauth2/auth?client_id=947318989803-6bn6qk8qdgf4n4g3pfee6491hc0brc4i.apps.googleusercontent.com&redirect_uri=urn%3aietf%3awg%3aoauth%3a2.0%3aoob&response_type=code&scope=email%20https%3a%2f%2fwww.googleapis.com%2fauth%2fdocs.test%20https%3a%2f%2fwww.googleapis.com%2fauth%2fdrive%20https%3a%2f%2fwww.googleapis.com%2fauth%2fdrive.photos.readonly%20https%3a%2f%2fwww.googleapis.com%2fauth%2fpeopleapi.readonly\n",
            "\n",
            "Enter your authorization code:\n",
            "··········\n",
            "Mounted at /content/drive\n"
          ],
          "name": "stdout"
        }
      ]
    },
    {
      "cell_type": "code",
      "metadata": {
        "id": "EE7d70-sV00-",
        "colab_type": "code",
        "colab": {
          "base_uri": "https://localhost:8080/",
          "height": 34
        },
        "outputId": "ad478b80-aa73-4e16-bd9d-d0821d1be179"
      },
      "source": [
        "cd /content/drive/My Drive/github/code"
      ],
      "execution_count": null,
      "outputs": [
        {
          "output_type": "stream",
          "text": [
            "/content/drive/My Drive/github/code\n"
          ],
          "name": "stdout"
        }
      ]
    },
    {
      "cell_type": "code",
      "metadata": {
        "id": "ONJv1byzCAro",
        "colab_type": "code",
        "colab": {
          "base_uri": "https://localhost:8080/",
          "height": 51
        },
        "outputId": "82fe3238-debc-4b73-dc46-904d4500e1e8"
      },
      "source": [
        "%tensorflow_version 1.x\n",
        "import numpy as np\n",
        "import sys\n",
        "import sklearn \n",
        "# import pyts\n",
        "import pandas as pd\n",
        "import matplotlib\n",
        "matplotlib.use('agg')\n",
        "import matplotlib.pyplot as plt\n",
        "import os\n",
        "import operator\n",
        "\n",
        "from sklearn.metrics import accuracy_score\n",
        "from sklearn.metrics import precision_score\n",
        "from sklearn.metrics import recall_score\n",
        "from sklearn.preprocessing import LabelEncoder\n",
        "from sklearn import preprocessing\n",
        "\n",
        "from scipy.interpolate import interp1d\n",
        "from scipy.io import loadmat\n",
        "\n",
        "from builtins import print\n",
        "import h5py\n",
        "from utils.deepNet import transform_labels, save_logs, calculate_metrics, plot_epochs_metric, find_weights\n",
        "from classifiers.fcn import Classifier_FCN\n",
        "from classifiers.resnet import Classifier_RESNET\n",
        "%matplotlib inline\n",
        "\n",
        "import  tensorflow.compat.v1.keras as keras\n",
        "# Restart runtime using 'Runtime' -> 'Restart runtime...'\n",
        "import tensorflow as tf\n"
      ],
      "execution_count": null,
      "outputs": [
        {
          "output_type": "stream",
          "text": [
            "TensorFlow 1.x selected.\n",
            "1.15.2\n"
          ],
          "name": "stdout"
        }
      ]
    },
    {
      "cell_type": "markdown",
      "metadata": {
        "id": "u532qcw0llXm",
        "colab_type": "text"
      },
      "source": [
        "### Get explanation weights from pre-trained Resnet model"
      ]
    },
    {
      "cell_type": "code",
      "metadata": {
        "id": "mEFdCFwBCAsB",
        "colab_type": "code",
        "colab": {
          "base_uri": "https://localhost:8080/",
          "height": 496
        },
        "outputId": "4e52260f-2d6e-4ef3-a956-d0723b25ce52"
      },
      "source": [
        "\n",
        "ds_list=['GunPoint', 'CMJ', 'ECG200', 'Coffee', 'CBF'] \n",
        "ds_dir = '/content/drive/My Drive/github/data'\n",
        "classifier = 'ResNet'\n",
        "\n",
        "output_directory = 'content/drive/My Drive/github/code/output/resnet_weights'\n",
        "\n",
        "for ds in ds_list:\n",
        "\n",
        "    train =  os.path.join(ds_dir, ds, ds+'_TRAIN')\n",
        "    test  = os.path.join(ds_dir, ds, ds+'_TEST')\n",
        "\n",
        "\n",
        "    train_data, test_data = np.genfromtxt(train, delimiter=','), np.genfromtxt(test, delimiter=',')\n",
        "    x_train, y_train = train_data[:,1:], train_data[:,0]\n",
        "    x_test, y_test  = test_data[:,1:], test_data[:,0]\n",
        "\n",
        "\n",
        "    x_train = preprocessing.scale(x_train, axis = 1)\n",
        "    x_test = preprocessing.scale(x_test, axis = 1)\n",
        "\n",
        "    # transform to binary labels\n",
        "    enc = sklearn.preprocessing.OneHotEncoder()\n",
        "    enc.fit(np.concatenate((y_train, y_test), axis=0).reshape(-1, 1))\n",
        "    y_train_binary = enc.transform(y_train.reshape(-1, 1)).toarray()\n",
        "    x_train = x_train.reshape(x_train.shape[0], x_train.shape[1], 1)\n",
        "    y_test_binary = enc.transform(y_test.reshape(-1, 1)).toarray()\n",
        "    x_test = x_test.reshape(x_test.shape[0], x_train.shape[1], 1)\n",
        "\n",
        "\n",
        "    model_file_name = 'ResNet_%s_BestModel.hdf5' %ds\n",
        "    model = keras.models.load_model(os.path.join(output_directory,model_file_name))\n",
        "    \n",
        "\n",
        "    # evaluate the model\n",
        "    score = model.evaluate(x_test, y_test_binary, verbose=0)\n",
        "    print(\"test\" ,\"%s: %.2f%%\" % (model.metrics_names[1], score[1]*100))\n",
        "\n",
        "    score = model.evaluate(x_train, y_train_binary, verbose=0)\n",
        "    print(\"train\",\"%s: %.2f%%\" % (model.metrics_names[1], score[1]*100))\n",
        "\n",
        "    find_weights(output_directory, x_train= x_train, y_train= y_train,x_test= x_test,y_test= y_test,model_file_name=model_file_name, save_weights=True)\n",
        "\n",
        "    print('weights saved for data %s' %ds)\n"
      ],
      "execution_count": null,
      "outputs": [
        {
          "output_type": "stream",
          "text": [
            "WARNING:tensorflow:From /tensorflow-1.15.2/python3.6/tensorflow_core/python/ops/init_ops.py:97: calling GlorotUniform.__init__ (from tensorflow.python.ops.init_ops) with dtype is deprecated and will be removed in a future version.\n",
            "Instructions for updating:\n",
            "Call initializer instance with the dtype argument instead of passing it to the constructor\n",
            "WARNING:tensorflow:From /tensorflow-1.15.2/python3.6/tensorflow_core/python/ops/init_ops.py:97: calling Zeros.__init__ (from tensorflow.python.ops.init_ops) with dtype is deprecated and will be removed in a future version.\n",
            "Instructions for updating:\n",
            "Call initializer instance with the dtype argument instead of passing it to the constructor\n",
            "WARNING:tensorflow:From /tensorflow-1.15.2/python3.6/tensorflow_core/python/ops/init_ops.py:97: calling Ones.__init__ (from tensorflow.python.ops.init_ops) with dtype is deprecated and will be removed in a future version.\n",
            "Instructions for updating:\n",
            "Call initializer instance with the dtype argument instead of passing it to the constructor\n",
            "WARNING:tensorflow:From /tensorflow-1.15.2/python3.6/tensorflow_core/python/ops/resource_variable_ops.py:1630: calling BaseResourceVariable.__init__ (from tensorflow.python.ops.resource_variable_ops) with constraint is deprecated and will be removed in a future version.\n",
            "Instructions for updating:\n",
            "If using Keras pass *_constraint arguments to layers.\n",
            "test acc: 97.33%\n",
            "train acc: 100.00%\n",
            "weights saved for data GunPoint\n",
            "test acc: 93.30%\n",
            "train acc: 100.00%\n",
            "weights saved for data CMJ\n",
            "test acc: 87.00%\n",
            "train acc: 100.00%\n",
            "weights saved for data ECG200\n",
            "test acc: 100.00%\n",
            "train acc: 100.00%\n",
            "weights saved for data Coffee\n",
            "test acc: 97.89%\n",
            "train acc: 100.00%\n",
            "weights saved for data CBF\n"
          ],
          "name": "stdout"
        }
      ]
    }
  ]
}