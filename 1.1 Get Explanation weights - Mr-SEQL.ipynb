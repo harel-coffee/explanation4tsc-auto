{
 "cells": [
  {
   "cell_type": "markdown",
   "metadata": {},
   "source": [
    "# Get Explanation weights - Mr-SEQL"
   ]
  },
  {
   "cell_type": "code",
   "execution_count": 5,
   "metadata": {},
   "outputs": [
    {
     "name": "stdout",
     "output_type": "stream",
     "text": [
      "The autoreload extension is already loaded. To reload it, use:\n",
      "  %reload_ext autoreload\n"
     ]
    }
   ],
   "source": [
    "%load_ext autoreload\n",
    "%autoreload 2\n",
    "\n",
    "import os\n",
    "import sys\n",
    "import numpy as np\n",
    "import pandas as pd\n",
    "from sklearn import metrics\n",
    "\n",
    "import matplotlib.pyplot as plt\n",
    "\n",
    "from sktime.classifiers.shapelet_based import MrSEQLClassifier\n",
    "from sklearn.linear_model import RidgeClassifierCV\n",
    "from scipy.interpolate import interp1d\n",
    "\n",
    "from utils.noise import Noise\n",
    "import utils.prep as prep\n",
    "import utils.visualize as vis\n",
    "import utils.noise as noise\n",
    "from utils.explanation import all_accuracy\n",
    "\n",
    "from utils.rocket_functions import generate_kernels, apply_kernels"
   ]
  },
  {
   "cell_type": "code",
   "execution_count": 6,
   "metadata": {},
   "outputs": [],
   "source": [
    "%reload_ext autoreload"
   ]
  },
  {
   "cell_type": "code",
   "execution_count": 9,
   "metadata": {},
   "outputs": [],
   "source": [
    "ds_list = ['CBF', 'CMJ', 'Coffee', 'ECG200', 'GunPoint']\n",
    "ds_dir = 'data'\n"
   ]
  },
  {
   "cell_type": "markdown",
   "metadata": {},
   "source": [
    "## 1. Train the Classifier with Mr-SEQL & save explanation weights"
   ]
  },
  {
   "cell_type": "code",
   "execution_count": 11,
   "metadata": {},
   "outputs": [
    {
     "name": "stdout",
     "output_type": "stream",
     "text": [
      "CBF\n",
      "Symbolic methods: sax\n",
      "No symbolic parameters found. To be generated later.\n",
      "Classification Method: SEQL as feature selection\n",
      "Accuracy with mr-seql: 0.9989\n",
      "   Original    predicted class:  [1. 2. 3.]\n",
      "   Transformed predicted class:  [0 1 2]\n",
      "DONE. weight_saved. \n",
      "CMJ\n",
      "Symbolic methods: sax\n",
      "No symbolic parameters found. To be generated later.\n",
      "Classification Method: SEQL as feature selection\n",
      "Accuracy with mr-seql: 0.9609\n",
      "   Original    predicted class:  [0. 1. 2.]\n",
      "   Transformed predicted class:  [0 1 2]\n",
      "DONE. weight_saved. \n",
      "Coffee\n",
      "Symbolic methods: sax\n",
      "No symbolic parameters found. To be generated later.\n",
      "Classification Method: SEQL as feature selection\n",
      "Accuracy with mr-seql: 1.0000\n",
      "   Original    predicted class:  [0. 1.]\n",
      "   Transformed predicted class:  [0 1]\n",
      "DONE. weight_saved. \n",
      "ECG200\n",
      "Symbolic methods: sax\n",
      "No symbolic parameters found. To be generated later.\n",
      "Classification Method: SEQL as feature selection\n",
      "Accuracy with mr-seql: 0.8500\n",
      "   Original    predicted class:  [-1.  1.]\n",
      "   Transformed predicted class:  [0 1]\n",
      "DONE. weight_saved. \n",
      "GunPoint\n",
      "Symbolic methods: sax\n",
      "No symbolic parameters found. To be generated later.\n",
      "Classification Method: SEQL as feature selection\n",
      "Accuracy with mr-seql: 0.9867\n",
      "   Original    predicted class:  [1. 2.]\n",
      "   Transformed predicted class:  [0 1]\n",
      "DONE. weight_saved. \n"
     ]
    }
   ],
   "source": [
    "\n",
    "for ds in ds_list:\n",
    "    print(ds)\n",
    "    train_file =  os.path.join(ds_dir, ds, ds+'_TRAIN')\n",
    "    test_file  = os.path.join(ds_dir, ds, ds+'_TEST')\n",
    "\n",
    "    # load train data\n",
    "    train_data = np.genfromtxt(train_file,delimiter=',')\n",
    "\n",
    "    # train_data = np.genfromtxt(train_file)\n",
    "    train_x = train_data[:,1:]\n",
    "    train_y = train_data[:,0]\n",
    "\n",
    "    # Create mrseql object\n",
    "    ms = MrSEQLClassifier(seql_mode='fs')\n",
    "\n",
    "    # Mr-SEQL Custom Configuration\n",
    "    # ms.mode(seql_mode='fs') # to use SEQL as feature selection\n",
    "    # ms.mode(seql_mode='clf') # to use Ensemble SEQL (default)\n",
    "    # ms.symbol_representations(['sax','sfa']) # only sax by default\n",
    "\n",
    "    # Short summary of the methods used.\n",
    "    ms.summary()\n",
    "\n",
    "    # fit training data\n",
    "    ms.fit(train_x,train_y)\n",
    "    \n",
    "    # load test data\n",
    "    test_data = np.genfromtxt(test_file, delimiter=',')\n",
    "    test_x = test_data[:,1:]\n",
    "    test_y = test_data[:,0]\n",
    "\n",
    "    # # prediction\n",
    "    predicted = ms.predict(test_x)\n",
    "\n",
    "    # # Classification accuracy\n",
    "    print(\"Accuracy with mr-seql: %2.4f\" % metrics.accuracy_score(test_y, predicted))\n",
    "    \n",
    "\n",
    "    save_weight(model = ms, test_data = test_x, labels = test_y, predicted = predicted, ds = ds)\n",
    "    print('DONE. weight_saved. ')\n",
    "   "
   ]
  }
 ],
 "metadata": {
  "kernelspec": {
   "display_name": "Python 3",
   "language": "python",
   "name": "python3"
  },
  "language_info": {
   "codemirror_mode": {
    "name": "ipython",
    "version": 3
   },
   "file_extension": ".py",
   "mimetype": "text/x-python",
   "name": "python",
   "nbconvert_exporter": "python",
   "pygments_lexer": "ipython3",
   "version": "3.7.4"
  }
 },
 "nbformat": 4,
 "nbformat_minor": 2
}
